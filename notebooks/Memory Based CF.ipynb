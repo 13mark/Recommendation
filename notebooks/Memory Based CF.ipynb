{
 "cells": [
  {
   "cell_type": "code",
   "execution_count": 74,
   "metadata": {},
   "outputs": [],
   "source": [
    "import os\n",
    "\n",
    "import numpy as np\n",
    "import pandas as pd\n",
    "\n",
    "from glob import glob\n",
    "from math import sqrt\n",
    "from sklearn.metrics.pairwise import pairwise_distances\n",
    "from sklearn.metrics import mean_squared_error, f1_score, classification_report\n",
    "from sklearn.model_selection import train_test_split"
   ]
  },
  {
   "cell_type": "code",
   "execution_count": 75,
   "metadata": {},
   "outputs": [],
   "source": [
    "home = os.path.dirname(os.getcwd())\n",
    "data_path = os.path.join(home, \"data\")"
   ]
  },
  {
   "cell_type": "code",
   "execution_count": 76,
   "metadata": {},
   "outputs": [
    {
     "name": "stdout",
     "output_type": "stream",
     "text": [
      "problem_data\n",
      "sample_submissions\n",
      "test_submissions\n",
      "train_submissions\n",
      "user_data\n"
     ]
    }
   ],
   "source": [
    "dfs = {\n",
    "    os.path.basename(file_name).split(\".\")[0]: \n",
    "    pd.read_csv(file_name) \n",
    "    for file_name in glob(f'{data_path}/*.csv')\n",
    "}\n",
    "for k, v in dfs.items():\n",
    "    print(k)\n",
    "    locals()[k] = v"
   ]
  },
  {
   "cell_type": "code",
   "execution_count": 77,
   "metadata": {},
   "outputs": [],
   "source": [
    "user_data[\"user_id\"] = user_data[\"user_id\"].apply(lambda x: int(x.split('_')[1]))\n",
    "user_data.sort_values(\"user_id\", inplace=True)"
   ]
  },
  {
   "cell_type": "code",
   "execution_count": 78,
   "metadata": {},
   "outputs": [],
   "source": [
    "problem_data[\"problem_id\"] = problem_data[\"problem_id\"].apply(lambda x: int(x.split('_')[1]))\n",
    "problem_data.sort_values(\"problem_id\", inplace=True)"
   ]
  },
  {
   "cell_type": "code",
   "execution_count": 79,
   "metadata": {},
   "outputs": [],
   "source": [
    "train_submissions[\"problem_id\"] = train_submissions[\"problem_id\"].apply(lambda x: int(x.split('_')[1]))\n",
    "train_submissions[\"user_id\"] = train_submissions[\"user_id\"].apply(lambda x: int(x.split('_')[1]))\n",
    "\n",
    "test_submissions[\"problem_id\"] = test_submissions[\"problem_id\"].apply(lambda x: int(x.split('_')[1]))\n",
    "test_submissions[\"user_id\"] = test_submissions[\"user_id\"].apply(lambda x: int(x.split('_')[1]))"
   ]
  },
  {
   "cell_type": "code",
   "execution_count": 80,
   "metadata": {},
   "outputs": [],
   "source": [
    "train_data, valid_data = train_test_split(train_submissions, stratify=train_submissions[\"attempts_range\"], test_size=0.2)"
   ]
  },
  {
   "cell_type": "code",
   "execution_count": 81,
   "metadata": {},
   "outputs": [],
   "source": [
    "n_users = len(user_data)\n",
    "n_problems = len(problem_data)\n",
    "\n",
    "train_data_matrix = np.zeros((n_users, n_problems))\n",
    "for line in train_data.to_dict(orient=\"records\"):\n",
    "    train_data_matrix[line['user_id']-1, line[\"problem_id\"]-1] = line[\"attempts_range\"]\n",
    "    \n",
    "valid_data_matrix = np.zeros((n_users, n_problems))\n",
    "for line in valid_data.to_dict(orient=\"records\"):\n",
    "    valid_data_matrix[line['user_id']-1, line[\"problem_id\"]-1] = line[\"attempts_range\"]"
   ]
  },
  {
   "cell_type": "code",
   "execution_count": 82,
   "metadata": {},
   "outputs": [],
   "source": [
    "user_similarity = pairwise_distances(train_data_matrix, metric='cosine')\n",
    "problem_similarity = pairwise_distances(train_data_matrix.T, metric='cosine')"
   ]
  },
  {
   "cell_type": "code",
   "execution_count": 83,
   "metadata": {},
   "outputs": [],
   "source": [
    "def predict(ratings, similarity, type='user'):\n",
    "    if type == 'user':\n",
    "        mean_user_rating = ratings.mean(axis=1)\n",
    "        #You use np.newaxis so that mean_user_rating has same format as ratings\n",
    "        ratings_diff = (ratings - mean_user_rating[:, np.newaxis])\n",
    "        pred = mean_user_rating[:, np.newaxis] + similarity.dot(ratings_diff) / np.array([np.abs(similarity).sum(axis=1)]).T\n",
    "    elif type == 'item':\n",
    "        pred = ratings.dot(similarity) / np.array([np.abs(similarity).sum(axis=1)])\n",
    "    return pred"
   ]
  },
  {
   "cell_type": "code",
   "execution_count": 84,
   "metadata": {},
   "outputs": [],
   "source": [
    "problem_prediction = predict(valid_data_matrix, problem_similarity, type='item')\n",
    "user_prediction = predict(valid_data_matrix, user_similarity, type='user')"
   ]
  },
  {
   "cell_type": "code",
   "execution_count": 85,
   "metadata": {},
   "outputs": [],
   "source": [
    "def rmse(prediction, ground_truth):\n",
    "    prediction = prediction[ground_truth.nonzero()].flatten()\n",
    "    ground_truth = ground_truth[ground_truth.nonzero()].flatten()\n",
    "    return sqrt(mean_squared_error(prediction, ground_truth))\n",
    "\n",
    "def rounded_f1_score(prediction, ground_truth):\n",
    "    prediction = prediction[ground_truth.nonzero()].flatten()\n",
    "    prediction = np.round(prediction)\n",
    "    prediction[prediction > 6] = 6\n",
    "    prediction[prediction < 1] = 1\n",
    "    ground_truth = ground_truth[ground_truth.nonzero()].flatten()\n",
    "    print(classification_report(ground_truth, prediction))\n",
    "    \n",
    "    return f1_score(ground_truth, prediction, average=\"weighted\")"
   ]
  },
  {
   "cell_type": "code",
   "execution_count": 86,
   "metadata": {},
   "outputs": [
    {
     "name": "stdout",
     "output_type": "stream",
     "text": [
      "User-based CF RMSE: 2.042632545073892\n",
      "Item-based CF RMSE: 2.057570949299947\n"
     ]
    },
    {
     "name": "stderr",
     "output_type": "stream",
     "text": [
      "c:\\programdata\\anaconda3\\lib\\site-packages\\sklearn\\metrics\\classification.py:1135: UndefinedMetricWarning: Precision and F-score are ill-defined and being set to 0.0 in labels with no predicted samples.\n",
      "  'precision', 'predicted', average, warn_for)\n",
      "c:\\programdata\\anaconda3\\lib\\site-packages\\sklearn\\metrics\\classification.py:1135: UndefinedMetricWarning: F-score is ill-defined and being set to 0.0 in labels with no predicted samples.\n",
      "  'precision', 'predicted', average, warn_for)\n"
     ]
    },
    {
     "name": "stdout",
     "output_type": "stream",
     "text": [
      "             precision    recall  f1-score   support\n",
      "\n",
      "        1.0       0.53      1.00      0.70     16561\n",
      "        2.0       0.00      0.00      0.00      9464\n",
      "        3.0       0.00      0.00      0.00      2829\n",
      "        4.0       0.00      0.00      0.00      1100\n",
      "        5.0       0.00      0.00      0.00       499\n",
      "        6.0       0.00      0.00      0.00       606\n",
      "\n",
      "avg / total       0.28      0.53      0.37     31059\n",
      "\n",
      "User-based CF F1: 0.3708738820490663\n",
      "             precision    recall  f1-score   support\n",
      "\n",
      "        1.0       0.53      1.00      0.70     16561\n",
      "        2.0       0.00      0.00      0.00      9464\n",
      "        3.0       0.00      0.00      0.00      2829\n",
      "        4.0       0.00      0.00      0.00      1100\n",
      "        5.0       0.00      0.00      0.00       499\n",
      "        6.0       0.00      0.00      0.00       606\n",
      "\n",
      "avg / total       0.28      0.53      0.37     31059\n",
      "\n",
      "Item-based CF F1: 0.3708738820490663\n"
     ]
    }
   ],
   "source": [
    "print('User-based CF RMSE: ' + str(rmse(user_prediction, valid_data_matrix)))\n",
    "print('Item-based CF RMSE: ' + str(rmse(problem_prediction, valid_data_matrix)))\n",
    "\n",
    "print('User-based CF F1: ' + str(rounded_f1_score(user_prediction, valid_data_matrix)))\n",
    "print('Item-based CF F1: ' + str(rounded_f1_score(problem_prediction, valid_data_matrix)))"
   ]
  },
  {
   "cell_type": "code",
   "execution_count": 87,
   "metadata": {},
   "outputs": [
    {
     "name": "stdout",
     "output_type": "stream",
     "text": [
      "             precision    recall  f1-score   support\n",
      "\n",
      "          1       0.00      0.00      0.00         1\n",
      "          2       0.20      1.00      0.33         1\n",
      "          3       0.00      0.00      0.00         1\n",
      "          4       0.00      0.00      0.00         1\n",
      "          5       0.00      0.00      0.00         1\n",
      "\n",
      "avg / total       0.04      0.20      0.07         5\n",
      "\n"
     ]
    },
    {
     "name": "stderr",
     "output_type": "stream",
     "text": [
      "c:\\programdata\\anaconda3\\lib\\site-packages\\sklearn\\metrics\\classification.py:1135: UndefinedMetricWarning: Precision and F-score are ill-defined and being set to 0.0 in labels with no predicted samples.\n",
      "  'precision', 'predicted', average, warn_for)\n"
     ]
    }
   ],
   "source": [
    "print(classification_report([1, 2, 3, 4, 5], [2, 2, 2, 2, 2]))"
   ]
  },
  {
   "cell_type": "code",
   "execution_count": null,
   "metadata": {},
   "outputs": [],
   "source": []
  }
 ],
 "metadata": {
  "kernelspec": {
   "display_name": "Python 3",
   "language": "python",
   "name": "python3"
  },
  "language_info": {
   "codemirror_mode": {
    "name": "ipython",
    "version": 3
   },
   "file_extension": ".py",
   "mimetype": "text/x-python",
   "name": "python",
   "nbconvert_exporter": "python",
   "pygments_lexer": "ipython3",
   "version": "3.6.3"
  }
 },
 "nbformat": 4,
 "nbformat_minor": 2
}
