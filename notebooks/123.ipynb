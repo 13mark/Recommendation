{
 "cells": [
  {
   "cell_type": "code",
   "execution_count": 36,
   "metadata": {},
   "outputs": [],
   "source": [
    "import os\n",
    "\n",
    "import numpy as np\n",
    "import pandas as pd\n",
    "\n",
    "from glob import glob\n",
    "from math import sqrt\n",
    "from sklearn.metrics.pairwise import pairwise_distances\n",
    "from sklearn.metrics import mean_squared_error, f1_score, classification_report\n",
    "from sklearn.model_selection import train_test_split"
   ]
  },
  {
   "cell_type": "code",
   "execution_count": 37,
   "metadata": {},
   "outputs": [],
   "source": [
    "home = os.path.dirname(os.getcwd())\n",
    "data_path = os.path.join(home, \"data\")"
   ]
  },
  {
   "cell_type": "code",
   "execution_count": 38,
   "metadata": {},
   "outputs": [
    {
     "name": "stdout",
     "output_type": "stream",
     "text": [
      "problem_data\n",
      "sample_submissions\n",
      "test_submissions\n",
      "train_submissions\n",
      "user_data\n"
     ]
    }
   ],
   "source": [
    "dfs = {\n",
    "    os.path.basename(file_name).split(\".\")[0]: \n",
    "    pd.read_csv(file_name) \n",
    "    for file_name in glob(f'{data_path}/*.csv')\n",
    "}\n",
    "for k, v in dfs.items():\n",
    "    print(k)\n",
    "    locals()[k] = v"
   ]
  },
  {
   "cell_type": "code",
   "execution_count": 39,
   "metadata": {},
   "outputs": [],
   "source": [
    "user_data[\"user_id\"] = user_data[\"user_id\"].apply(lambda x: int(x.split('_')[1]))\n",
    "user_data.sort_values(\"user_id\", inplace=True)"
   ]
  },
  {
   "cell_type": "code",
   "execution_count": 40,
   "metadata": {},
   "outputs": [],
   "source": [
    "problem_data[\"problem_id\"] = problem_data[\"problem_id\"].apply(lambda x: int(x.split('_')[1]))\n",
    "problem_data.sort_values(\"problem_id\", inplace=True)"
   ]
  },
  {
   "cell_type": "code",
   "execution_count": 41,
   "metadata": {},
   "outputs": [],
   "source": [
    "train_submissions[\"problem_id\"] = train_submissions[\"problem_id\"].apply(lambda x: int(x.split('_')[1]))\n",
    "train_submissions[\"user_id\"] = train_submissions[\"user_id\"].apply(lambda x: int(x.split('_')[1]))\n",
    "\n",
    "test_submissions[\"problem_id\"] = test_submissions[\"problem_id\"].apply(lambda x: int(x.split('_')[1]))\n",
    "test_submissions[\"user_id\"] = test_submissions[\"user_id\"].apply(lambda x: int(x.split('_')[1]))"
   ]
  },
  {
   "cell_type": "code",
   "execution_count": 42,
   "metadata": {},
   "outputs": [],
   "source": [
    "train_data, valid_data = train_test_split(train_submissions, stratify=train_submissions[\"attempts_range\"], test_size=0.2)"
   ]
  },
  {
   "cell_type": "code",
   "execution_count": 43,
   "metadata": {},
   "outputs": [],
   "source": [
    "num_counts = dict()\n",
    "mapping = dict()\n",
    "\n",
    "n_users = len(user_data)\n",
    "n_problems = len(problem_data)\n",
    "n_user_rank = len(user_data[\"rank\"].value_counts())\n",
    "n_countries = len(user_data[\"country\"].value_counts())\n",
    "n_level_types = len(problem_data[\"level_type\"].value_counts())\n",
    "\n",
    "user_mapping = {user_id: i for i, user_id in enumerate(user_data[\"user_id\"].values)}\n",
    "problem_mapping = {problem_id: i for i, problem_id in enumerate(problem_data[\"problem_id\"].values)}"
   ]
  },
  {
   "cell_type": "code",
   "execution_count": 58,
   "metadata": {},
   "outputs": [],
   "source": [
    "from keras.models import Model\n",
    "from keras.layers import Embedding, Dense, Input, Concatenate\n",
    "from keras.initializers import he_normal\n",
    "from keras.optimizers import Adam\n",
    "\n",
    "def get_model():\n",
    "    input_x = Input(shape=(1,))\n",
    "    x = Embedding(input_dim=n_users, output_dim=50)(input_x)\n",
    "    \n",
    "    input_y = Input(shape=(1,))\n",
    "    y = Embedding(input_dim=n_problems, output_dim=50)(input_y)\n",
    "    \n",
    "    merge = Concatenate(axis=-1)([x, y])\n",
    "    merge = Dense(50, activation=\"relu\", kernel_initializer=he_normal(seed=42))(merge)\n",
    "    merge = Dense(50, activation=\"relu\", kernel_initializer=he_normal(seed=42))(merge)\n",
    "    merge = Dense(50, activation=\"relu\", kernel_initializer=he_normal(seed=42))(merge)\n",
    "    output = Dense(6, activation=\"sigmoid\")(merge)\n",
    "    model = Model(inputs=[input_x, input_y], outputs=output)\n",
    "    model.compile(optimizer=Adam(lr=1e-4), loss='categorical_crossentropy', metrics=['acc'])\n",
    "    #print(model.summary())\n",
    "    \n",
    "    return model"
   ]
  },
  {
   "cell_type": "code",
   "execution_count": 45,
   "metadata": {},
   "outputs": [],
   "source": [
    "train_submissions[\"user_id\"] = train_submissions[\"user_id\"].map(user_mapping)\n",
    "train_submissions[\"problem_id\"] = train_submissions[\"problem_id\"].map(problem_mapping)"
   ]
  },
  {
   "cell_type": "code",
   "execution_count": 46,
   "metadata": {},
   "outputs": [],
   "source": [
    "y = pd.get_dummies(train_submissions[\"attempts_range\"])"
   ]
  },
  {
   "cell_type": "code",
   "execution_count": 47,
   "metadata": {},
   "outputs": [],
   "source": [
    "y = y.values[:, np.newaxis]"
   ]
  },
  {
   "cell_type": "code",
   "execution_count": 48,
   "metadata": {},
   "outputs": [
    {
     "data": {
      "text/plain": [
       "(155295, 1, 6)"
      ]
     },
     "execution_count": 48,
     "metadata": {},
     "output_type": "execute_result"
    }
   ],
   "source": [
    "y.shape"
   ]
  },
  {
   "cell_type": "code",
   "execution_count": null,
   "metadata": {},
   "outputs": [
    {
     "name": "stdout",
     "output_type": "stream",
     "text": [
      "Train on 124236 samples, validate on 31059 samples\n",
      "Epoch 1/10\n",
      "124236/124236 [==============================] - 17s 141us/step - loss: 1.3065 - acc: 0.5282 - val_loss: 1.1131 - val_acc: 0.5332\n",
      "Epoch 2/10\n",
      "124236/124236 [==============================] - 15s 117us/step - loss: 1.0794 - acc: 0.5352 - val_loss: 1.0682 - val_acc: 0.5491\n",
      "Epoch 3/10\n",
      "124236/124236 [==============================] - 15s 119us/step - loss: 1.0360 - acc: 0.5612 - val_loss: 1.0581 - val_acc: 0.5617\n",
      "Epoch 4/10\n",
      "124236/124236 [==============================] - 15s 117us/step - loss: 1.0145 - acc: 0.5733 - val_loss: 1.0575 - val_acc: 0.5640\n",
      "Epoch 5/10\n",
      "124236/124236 [==============================] - 15s 122us/step - loss: 0.9999 - acc: 0.5815 - val_loss: 1.0582 - val_acc: 0.5634\n",
      "Epoch 6/10\n",
      "124236/124236 [==============================] - 15s 119us/step - loss: 0.9883 - acc: 0.5887 - val_loss: 1.0631 - val_acc: 0.5580\n",
      "Epoch 7/10\n",
      "124236/124236 [==============================] - 14s 116us/step - loss: 0.9789 - acc: 0.5939 - val_loss: 1.0663 - val_acc: 0.5597\n",
      "Epoch 8/10\n",
      "124236/124236 [==============================] - 15s 121us/step - loss: 0.9705 - acc: 0.5973 - val_loss: 1.0721 - val_acc: 0.5604\n",
      "Epoch 9/10\n",
      "124236/124236 [==============================] - 15s 118us/step - loss: 0.9628 - acc: 0.6017 - val_loss: 1.0773 - val_acc: 0.5548\n",
      "Epoch 10/10\n",
      " 20864/124236 [====>.........................] - ETA: 20s - loss: 0.9382 - acc: 0.6076"
     ]
    }
   ],
   "source": [
    "model = get_model()\n",
    "model.fit([train_submissions[\"user_id\"].values, train_submissions[\"problem_id\"].values], y, batch_size=128, epochs=10, validation_split=0.2)"
   ]
  },
  {
   "cell_type": "code",
   "execution_count": 50,
   "metadata": {},
   "outputs": [
    {
     "ename": "NameError",
     "evalue": "name 'predict' is not defined",
     "output_type": "error",
     "traceback": [
      "\u001b[1;31m---------------------------------------------------------------------------\u001b[0m",
      "\u001b[1;31mNameError\u001b[0m                                 Traceback (most recent call last)",
      "\u001b[1;32m<ipython-input-50-028a5e2522aa>\u001b[0m in \u001b[0;36m<module>\u001b[1;34m()\u001b[0m\n\u001b[1;32m----> 1\u001b[1;33m \u001b[0mproblem_prediction\u001b[0m \u001b[1;33m=\u001b[0m \u001b[0mpredict\u001b[0m\u001b[1;33m(\u001b[0m\u001b[0mvalid_data_matrix\u001b[0m\u001b[1;33m,\u001b[0m \u001b[0mproblem_similarity\u001b[0m\u001b[1;33m,\u001b[0m \u001b[0mtype\u001b[0m\u001b[1;33m=\u001b[0m\u001b[1;34m'item'\u001b[0m\u001b[1;33m)\u001b[0m\u001b[1;33m\u001b[0m\u001b[0m\n\u001b[0m\u001b[0;32m      2\u001b[0m \u001b[0muser_prediction\u001b[0m \u001b[1;33m=\u001b[0m \u001b[0mpredict\u001b[0m\u001b[1;33m(\u001b[0m\u001b[0mvalid_data_matrix\u001b[0m\u001b[1;33m,\u001b[0m \u001b[0muser_similarity\u001b[0m\u001b[1;33m,\u001b[0m \u001b[0mtype\u001b[0m\u001b[1;33m=\u001b[0m\u001b[1;34m'user'\u001b[0m\u001b[1;33m)\u001b[0m\u001b[1;33m\u001b[0m\u001b[0m\n",
      "\u001b[1;31mNameError\u001b[0m: name 'predict' is not defined"
     ]
    }
   ],
   "source": [
    "problem_prediction = predict(valid_data_matrix, problem_similarity, type='item')\n",
    "user_prediction = predict(valid_data_matrix, user_similarity, type='user')"
   ]
  },
  {
   "cell_type": "code",
   "execution_count": null,
   "metadata": {},
   "outputs": [],
   "source": [
    "def rmse(prediction, ground_truth):\n",
    "    prediction = prediction[ground_truth.nonzero()].flatten()\n",
    "    ground_truth = ground_truth[ground_truth.nonzero()].flatten()\n",
    "    return sqrt(mean_squared_error(prediction, ground_truth))\n",
    "\n",
    "def rounded_f1_score(prediction, ground_truth):\n",
    "    prediction = prediction[ground_truth.nonzero()].flatten()\n",
    "    prediction = np.round(prediction)\n",
    "    prediction[prediction > 6] = 6\n",
    "    prediction[prediction < 1] = 1\n",
    "    ground_truth = ground_truth[ground_truth.nonzero()].flatten()\n",
    "    print(classification_report(ground_truth, prediction))\n",
    "    \n",
    "    return f1_score(ground_truth, prediction, average=\"weighted\")"
   ]
  },
  {
   "cell_type": "code",
   "execution_count": null,
   "metadata": {},
   "outputs": [],
   "source": [
    "print('User-based CF RMSE: ' + str(rmse(user_prediction, valid_data_matrix)))\n",
    "print('Item-based CF RMSE: ' + str(rmse(problem_prediction, valid_data_matrix)))\n",
    "\n",
    "print('User-based CF F1: ' + str(rounded_f1_score(user_prediction, valid_data_matrix)))\n",
    "print('Item-based CF F1: ' + str(rounded_f1_score(problem_prediction, valid_data_matrix)))"
   ]
  },
  {
   "cell_type": "code",
   "execution_count": null,
   "metadata": {},
   "outputs": [],
   "source": [
    "print(classification_report([1, 2, 3, 4, 5], [2, 2, 2, 2, 2]))"
   ]
  },
  {
   "cell_type": "code",
   "execution_count": null,
   "metadata": {},
   "outputs": [],
   "source": []
  }
 ],
 "metadata": {
  "kernelspec": {
   "display_name": "Python 3",
   "language": "python",
   "name": "python3"
  },
  "language_info": {
   "codemirror_mode": {
    "name": "ipython",
    "version": 3
   },
   "file_extension": ".py",
   "mimetype": "text/x-python",
   "name": "python",
   "nbconvert_exporter": "python",
   "pygments_lexer": "ipython3",
   "version": "3.6.3"
  }
 },
 "nbformat": 4,
 "nbformat_minor": 2
}
